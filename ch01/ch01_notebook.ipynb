{
 "cells": [
  {
   "cell_type": "markdown",
   "metadata": {},
   "source": [
    "Our first (tiny) machine learning application\n",
    "===\n",
    "\n",
    "> This code is supporting material for the book\n",
    "> Building Machine Learning Systems with Python\n",
    ">by Willi Richert and Luis Pedro Coelho\n",
    ">published by PACKT Publishing\n",
    "\n",
    "> It is made available under the MIT License\n",
    "> This script generates web traffic data for our hypothetical\n",
    ">web startup \"MLASS\" in chapter 01\n",
    "\n",
    "この章では 簡単な機械学習に触れてみましょう.\n",
    "かんたｎグラフのプロットの仕方をここで抑えておくと, これから楽になります."
   ]
  },
  {
   "cell_type": "markdown",
   "metadata": {},
   "source": [
    "## Benchmark"
   ]
  },
  {
   "cell_type": "code",
   "execution_count": 13,
   "metadata": {
    "collapsed": false
   },
   "outputs": [
    {
     "name": "stdout",
     "output_type": "stream",
     "text": [
      "Normal Python: 0.899326 sec\n",
      "Naive NumPy: 1.063340 sec\n",
      "Good NumPy: 0.015315 sec\n"
     ]
    }
   ],
   "source": [
    "%run ./performance_test.py"
   ]
  },
  {
   "cell_type": "markdown",
   "metadata": {},
   "source": [
    "## Data generation"
   ]
  },
  {
   "cell_type": "code",
   "execution_count": 14,
   "metadata": {
    "collapsed": false
   },
   "outputs": [
    {
     "ename": "TypeError",
     "evalue": "Cannot cast ufunc add output from dtype('float64') to dtype('int64') with casting rule 'same_kind'",
     "output_type": "error",
     "traceback": [
      "\u001b[0;31m---------------------------------------------------------------------------\u001b[0m",
      "\u001b[0;31mTypeError\u001b[0m                                 Traceback (most recent call last)",
      "\u001b[0;32m/Users/alrescha/works/BuildingMachineLearningSystemsWithPython/ch01/gen_webstats.py\u001b[0m in \u001b[0;36m<module>\u001b[0;34m()\u001b[0m\n\u001b[1;32m     20\u001b[0m \u001b[0mx\u001b[0m \u001b[0;34m=\u001b[0m \u001b[0msp\u001b[0m\u001b[0;34m.\u001b[0m\u001b[0marange\u001b[0m\u001b[0;34m(\u001b[0m\u001b[0;36m1\u001b[0m\u001b[0;34m,\u001b[0m \u001b[0;36m31\u001b[0m \u001b[0;34m*\u001b[0m \u001b[0;36m24\u001b[0m\u001b[0;34m)\u001b[0m\u001b[0;34m\u001b[0m\u001b[0m\n\u001b[1;32m     21\u001b[0m \u001b[0my\u001b[0m \u001b[0;34m=\u001b[0m \u001b[0msp\u001b[0m\u001b[0;34m.\u001b[0m\u001b[0marray\u001b[0m\u001b[0;34m(\u001b[0m\u001b[0;36m200\u001b[0m \u001b[0;34m*\u001b[0m \u001b[0;34m(\u001b[0m\u001b[0msp\u001b[0m\u001b[0;34m.\u001b[0m\u001b[0msin\u001b[0m\u001b[0;34m(\u001b[0m\u001b[0;36m2\u001b[0m \u001b[0;34m*\u001b[0m \u001b[0msp\u001b[0m\u001b[0;34m.\u001b[0m\u001b[0mpi\u001b[0m \u001b[0;34m*\u001b[0m \u001b[0mx\u001b[0m \u001b[0;34m/\u001b[0m \u001b[0;34m(\u001b[0m\u001b[0;36m7\u001b[0m \u001b[0;34m*\u001b[0m \u001b[0;36m24\u001b[0m\u001b[0;34m)\u001b[0m\u001b[0;34m)\u001b[0m\u001b[0;34m)\u001b[0m\u001b[0;34m,\u001b[0m \u001b[0mdtype\u001b[0m\u001b[0;34m=\u001b[0m\u001b[0mint\u001b[0m\u001b[0;34m)\u001b[0m\u001b[0;34m\u001b[0m\u001b[0m\n\u001b[0;32m---> 22\u001b[0;31m \u001b[0my\u001b[0m \u001b[0;34m+=\u001b[0m \u001b[0mgamma\u001b[0m\u001b[0;34m.\u001b[0m\u001b[0mrvs\u001b[0m\u001b[0;34m(\u001b[0m\u001b[0;36m15\u001b[0m\u001b[0;34m,\u001b[0m \u001b[0mloc\u001b[0m\u001b[0;34m=\u001b[0m\u001b[0;36m0\u001b[0m\u001b[0;34m,\u001b[0m \u001b[0mscale\u001b[0m\u001b[0;34m=\u001b[0m\u001b[0;36m100\u001b[0m\u001b[0;34m,\u001b[0m \u001b[0msize\u001b[0m\u001b[0;34m=\u001b[0m\u001b[0mlen\u001b[0m\u001b[0;34m(\u001b[0m\u001b[0mx\u001b[0m\u001b[0;34m)\u001b[0m\u001b[0;34m)\u001b[0m\u001b[0;34m\u001b[0m\u001b[0m\n\u001b[0m\u001b[1;32m     23\u001b[0m \u001b[0my\u001b[0m \u001b[0;34m+=\u001b[0m \u001b[0;36m2\u001b[0m \u001b[0;34m*\u001b[0m \u001b[0msp\u001b[0m\u001b[0;34m.\u001b[0m\u001b[0mexp\u001b[0m\u001b[0;34m(\u001b[0m\u001b[0mx\u001b[0m \u001b[0;34m/\u001b[0m \u001b[0;36m100.0\u001b[0m\u001b[0;34m)\u001b[0m\u001b[0;34m\u001b[0m\u001b[0m\n\u001b[1;32m     24\u001b[0m \u001b[0my\u001b[0m \u001b[0;34m=\u001b[0m \u001b[0msp\u001b[0m\u001b[0;34m.\u001b[0m\u001b[0mma\u001b[0m\u001b[0;34m.\u001b[0m\u001b[0marray\u001b[0m\u001b[0;34m(\u001b[0m\u001b[0my\u001b[0m\u001b[0;34m,\u001b[0m \u001b[0mmask\u001b[0m\u001b[0;34m=\u001b[0m\u001b[0;34m[\u001b[0m\u001b[0my\u001b[0m \u001b[0;34m<\u001b[0m \u001b[0;36m0\u001b[0m\u001b[0;34m]\u001b[0m\u001b[0;34m)\u001b[0m\u001b[0;34m\u001b[0m\u001b[0m\n",
      "\u001b[0;31mTypeError\u001b[0m: Cannot cast ufunc add output from dtype('float64') to dtype('int64') with casting rule 'same_kind'"
     ]
    }
   ],
   "source": [
    "%run ./gen_webstats.py"
   ]
  },
  {
   "cell_type": "markdown",
   "metadata": {},
   "source": [
    "## Data Analysis"
   ]
  },
  {
   "cell_type": "code",
   "execution_count": 16,
   "metadata": {
    "collapsed": false
   },
   "outputs": [
    {
     "name": "stdout",
     "output_type": "stream",
     "text": [
      "[[  1.00000000e+00   2.27333118e+03]\n",
      " [  2.00000000e+00   1.65725543e+03]\n",
      " [  3.00000000e+00   1.38743304e+03]\n",
      " [  4.00000000e+00   1.36684635e+03]\n",
      " [  5.00000000e+00   1.48923437e+03]\n",
      " [  6.00000000e+00   1.33802007e+03]\n",
      " [  7.00000000e+00   1.88464734e+03]\n",
      " [  8.00000000e+00   2.28475432e+03]\n",
      " [  9.00000000e+00   1.33581092e+03]\n",
      " [  1.00000000e+01   1.02583237e+03]]\n",
      "(743, 2)\n",
      "('Number of invalid entries:', 0)\n",
      "Model parameters of fp1: [    2.57155566  1003.16451154]"
     ]
    },
    {
     "name": "stderr",
     "output_type": "stream",
     "text": [
      "/Users/alrescha/.pyenv/versions/anaconda-2.4.0/envs/dev2.7/lib/python2.7/site-packages/numpy/lib/polynomial.py:594: RankWarning: Polyfit may be poorly conditioned\n",
      "  warnings.warn(msg, RankWarning)\n",
      "./analyze_webstats.py:85: DeprecationWarning: using a non-integer number instead of an integer will result in an error in the future\n",
      "  xa = x[:inflection]\n"
     ]
    },
    {
     "name": "stdout",
     "output_type": "stream",
     "text": [
      "\n",
      "('Error of the model of fp1:', array([  3.20035168e+08]))\n",
      "Model parameters of fp2: [  1.04714592e-02  -5.21921000e+00   1.97051791e+03]\n",
      "('Error of the model of fp2:', array([  1.82097766e+08]))\n",
      "Errors for the complete data set:\n",
      "Error d=1: 320035167.628501\n",
      "Error d=2: 182097765.510398\n",
      "Error d=3: 140749054.041946\n",
      "Error d=10: 123641832.680218\n",
      "Error d=53: 111264783.530811\n",
      "Errors for only the time after inflection point\n",
      "Error d=1: 147743285.569267\n",
      "Error d=2: 63399512.433861\n",
      "Error d=3: 34699900.658613\n",
      "Error d=10: 23121099.596543\n",
      "Error d=53: 20386053.741164\n",
      "Error inflection=136543685.925775\n",
      "Trained only on data after inflection point"
     ]
    },
    {
     "name": "stderr",
     "output_type": "stream",
     "text": [
      "./analyze_webstats.py:86: DeprecationWarning: using a non-integer number instead of an integer will result in an error in the future\n",
      "  ya = y[:inflection]\n",
      "./analyze_webstats.py:87: DeprecationWarning: using a non-integer number instead of an integer will result in an error in the future\n",
      "  xb = x[inflection:]\n",
      "./analyze_webstats.py:88: DeprecationWarning: using a non-integer number instead of an integer will result in an error in the future\n",
      "  yb = y[inflection:]\n",
      "/Users/alrescha/.pyenv/versions/anaconda-2.4.0/envs/dev2.7/lib/python2.7/site-packages/numpy/lib/polynomial.py:594: RankWarning: Polyfit may be poorly conditioned\n",
      "  warnings.warn(msg, RankWarning)\n"
     ]
    },
    {
     "name": "stdout",
     "output_type": "stream",
     "text": [
      "\n",
      "Errors for only the time after inflection point\n",
      "Error d=1: 26974039.847031\n",
      "Error d=2: 21981595.608171\n",
      "Error d=3: 21801586.363910\n",
      "Error d=10: 20596854.065525\n",
      "Error d=53: 19581005.153688\n",
      "fbt2(x)= \n",
      "         2\n",
      "0.07615 x - 80.96 x + 2.313e+04"
     ]
    },
    {
     "name": "stderr",
     "output_type": "stream",
     "text": [
      "/Users/alrescha/.pyenv/versions/anaconda-2.4.0/envs/dev2.7/lib/python2.7/site-packages/numpy/lib/polynomial.py:594: RankWarning: Polyfit may be poorly conditioned\n",
      "  warnings.warn(msg, RankWarning)\n",
      "/Users/alrescha/.pyenv/versions/anaconda-2.4.0/envs/dev2.7/lib/python2.7/site-packages/numpy/lib/polynomial.py:594: RankWarning: Polyfit may be poorly conditioned\n",
      "  warnings.warn(msg, RankWarning)\n"
     ]
    },
    {
     "name": "stdout",
     "output_type": "stream",
     "text": [
      "\n",
      "fbt2(x)-100,000= \n",
      "         2\n",
      "0.07615 x - 80.96 x - 7.687e+04\n",
      "Test errors for only the time after inflection point\n",
      "Error d=1: 9540971.902530\n",
      "Error d=2: 6643739.186162\n",
      "Error d=3: 6538968.051351\n",
      "Error d=10: 7302934.465421\n",
      "Error d=53: 7055220.857323\n",
      "         2\n",
      "0.07615 x - 80.96 x + 2.313e+04\n",
      "         2\n",
      "0.07615 x - 80.96 x - 7.687e+04\n",
      "100,000 hits/hour expected at week 9.929968\n"
     ]
    },
    {
     "name": "stderr",
     "output_type": "stream",
     "text": [
      "/Users/alrescha/.pyenv/versions/anaconda-2.4.0/envs/dev2.7/lib/python2.7/site-packages/numpy/lib/polynomial.py:594: RankWarning: Polyfit may be poorly conditioned\n",
      "  warnings.warn(msg, RankWarning)\n"
     ]
    }
   ],
   "source": [
    "%run ./analyze_webstats.py"
   ]
  }
 ],
 "metadata": {
  "kernelspec": {
   "display_name": "Python 2",
   "language": "python",
   "name": "python2"
  },
  "language_info": {
   "codemirror_mode": {
    "name": "ipython",
    "version": 2
   },
   "file_extension": ".py",
   "mimetype": "text/x-python",
   "name": "python",
   "nbconvert_exporter": "python",
   "pygments_lexer": "ipython2",
   "version": "2.7.11"
  }
 },
 "nbformat": 4,
 "nbformat_minor": 0
}
