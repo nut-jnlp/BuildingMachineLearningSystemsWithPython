{
 "cells": [
  {
   "cell_type": "markdown",
   "metadata": {},
   "source": [
    "# Pandas tutorial\n",
    "\n",
    "pandas is a Python package providing fast, flexible, and expressive data structures designed to make working with “relational” or “labeled” data both easy and intuitive. It aims to be the fundamental high-level building block for doing practical, real world data analysis in Python. Additionally, it has the broader goal of becoming the most powerful and flexible open source data analysis / manipulation tool available in any language. It is already well on its way toward this goal.\n",
    "\n",
    "pandas は 関係やラベルが付与されたデータを取り扱うために作られました.  \n",
    "早くて, 柔軟で, 多彩な表現力を持ったデータ構造(データフレーム)を提供します.\n",
    "\n",
    "csvファイル読み, 行演算や列演算を行うときに非常に便利です.\n",
    "\n",
    "- [10分チュートリアル](http://pandas.pydata.org/pandas-docs/stable/10min.html)\n",
    "- [チュートリアル](http://pandas.pydata.org/pandas-docs/stable/tutorials.html)\n",
    "- [Cookbook](http://pandas.pydata.org/pandas-docs/stable/cookbook.html)"
   ]
  },
  {
   "cell_type": "code",
   "execution_count": 5,
   "metadata": {
    "collapsed": false
   },
   "outputs": [
    {
     "name": "stdout",
     "output_type": "stream",
     "text": [
      "\n",
      "INSTALLED VERSIONS\n",
      "------------------\n",
      "commit: None\n",
      "python: 2.7.11.final.0\n",
      "python-bits: 64\n",
      "OS: Darwin\n",
      "OS-release: 15.3.0\n",
      "machine: x86_64\n",
      "processor: i386\n",
      "byteorder: little\n",
      "LC_ALL: None\n",
      "LANG: ja_JP.UTF-8\n",
      "\n",
      "pandas: 0.17.1\n",
      "nose: 1.3.7\n",
      "pip: 8.0.2\n",
      "setuptools: 19.6.2\n",
      "Cython: None\n",
      "numpy: 1.10.4\n",
      "scipy: 0.17.0\n",
      "statsmodels: None\n",
      "IPython: 4.1.1\n",
      "sphinx: 1.3.5\n",
      "patsy: None\n",
      "dateutil: 2.4.2\n",
      "pytz: 2015.7\n",
      "blosc: None\n",
      "bottleneck: None\n",
      "tables: None\n",
      "numexpr: None\n",
      "matplotlib: 1.5.1\n",
      "openpyxl: None\n",
      "xlrd: None\n",
      "xlwt: None\n",
      "xlsxwriter: None\n",
      "lxml: None\n",
      "bs4: None\n",
      "html5lib: None\n",
      "httplib2: None\n",
      "apiclient: None\n",
      "sqlalchemy: None\n",
      "pymysql: None\n",
      "psycopg2: None\n",
      "Jinja2: None\n"
     ]
    }
   ],
   "source": [
    "import pandas as pd\n",
    "pd.show_versions()"
   ]
  },
  {
   "cell_type": "code",
   "execution_count": null,
   "metadata": {
    "collapsed": true
   },
   "outputs": [],
   "source": []
  }
 ],
 "metadata": {
  "kernelspec": {
   "display_name": "Python 2",
   "language": "python",
   "name": "python2"
  },
  "language_info": {
   "codemirror_mode": {
    "name": "ipython",
    "version": 2
   },
   "file_extension": ".py",
   "mimetype": "text/x-python",
   "name": "python",
   "nbconvert_exporter": "python",
   "pygments_lexer": "ipython2",
   "version": "2.7.11"
  }
 },
 "nbformat": 4,
 "nbformat_minor": 0
}
