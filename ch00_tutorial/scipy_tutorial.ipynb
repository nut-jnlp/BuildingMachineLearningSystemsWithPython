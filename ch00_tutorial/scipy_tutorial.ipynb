{
 "cells": [
  {
   "cell_type": "markdown",
   "metadata": {},
   "source": [
    "# Scipy Tutorial\n",
    "\n",
    "scipyは科学計算用のパッケージです.  \n",
    "フーリエ変換やクラスタリング, 数値補間, 積分など数値計算に利用する便利な関数やデータ構造が含まれています."
   ]
  },
  {
   "cell_type": "code",
   "execution_count": 3,
   "metadata": {
    "collapsed": false
   },
   "outputs": [
    {
     "data": {
      "text/plain": [
       "'0.17.0'"
      ]
     },
     "execution_count": 3,
     "metadata": {},
     "output_type": "execute_result"
    }
   ],
   "source": [
    "import scipy as sp\n",
    "\n",
    "sp.version.full_version"
   ]
  },
  {
   "cell_type": "code",
   "execution_count": 4,
   "metadata": {
    "collapsed": false
   },
   "outputs": [
    {
     "name": "stdout",
     "output_type": "stream",
     "text": [
      "lapack_opt_info:\n",
      "    extra_link_args = ['-Wl,-framework', '-Wl,Accelerate']\n",
      "    extra_compile_args = ['-msse3']\n",
      "    define_macros = [('NO_ATLAS_INFO', 3)]\n",
      "blas_opt_info:\n",
      "    extra_link_args = ['-Wl,-framework', '-Wl,Accelerate']\n",
      "    extra_compile_args = ['-msse3', '-I/System/Library/Frameworks/vecLib.framework/Headers']\n",
      "    define_macros = [('NO_ATLAS_INFO', 3)]\n"
     ]
    }
   ],
   "source": [
    "sp.show_config()"
   ]
  },
  {
   "cell_type": "code",
   "execution_count": null,
   "metadata": {
    "collapsed": true
   },
   "outputs": [],
   "source": []
  }
 ],
 "metadata": {
  "kernelspec": {
   "display_name": "Python 2",
   "language": "python",
   "name": "python2"
  },
  "language_info": {
   "codemirror_mode": {
    "name": "ipython",
    "version": 2
   },
   "file_extension": ".py",
   "mimetype": "text/x-python",
   "name": "python",
   "nbconvert_exporter": "python",
   "pygments_lexer": "ipython2",
   "version": "2.7.11"
  }
 },
 "nbformat": 4,
 "nbformat_minor": 0
}
